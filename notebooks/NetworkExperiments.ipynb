{
 "cells": [
  {
   "cell_type": "code",
   "execution_count": 1,
   "metadata": {},
   "outputs": [],
   "source": [
    "import pandas as pd\n",
    "import numpy as np\n",
    "import networkx as nx\n",
    "import matplotlib.pyplot as plt\n",
    "import seaborn as sns\n",
    "import scipy\n",
    "import random\n",
    "from collections import defaultdict\n",
    "\n",
    "import itertools\n",
    "\n",
    "sns.set_style(\"whitegrid\")\n",
    "\n",
    "from IPython.display import clear_output\n",
    "\n",
    "from tqdm import tqdm as tqdm_base\n",
    "def tqdm(*args, **kwargs):\n",
    "    if hasattr(tqdm_base, '_instances'):\n",
    "        for instance in list(tqdm_base._instances):\n",
    "            tqdm_base._decr_instances(instance)\n",
    "    return tqdm_base(*args, **kwargs)"
   ]
  },
  {
   "cell_type": "markdown",
   "metadata": {},
   "source": [
    "Сгенерируем граф"
   ]
  },
  {
   "cell_type": "code",
   "execution_count": 2,
   "metadata": {},
   "outputs": [
    {
     "data": {
      "text/plain": [
       "(72600, 19.99724517906336, 725900.0, 1462)"
      ]
     },
     "execution_count": 2,
     "metadata": {},
     "output_type": "execute_result"
    }
   ],
   "source": [
    "graph = nx.generators.random_graphs.barabasi_albert_graph(72600, 10)\n",
    "A = nx.convert_matrix.to_scipy_sparse_matrix(graph)\n",
    "\n",
    "_, degrees = zip(*graph.degree())\n",
    "degrees = np.asarray(degrees)\n",
    "len(degrees), np.mean(degrees), sum(degrees) / 2, max(degrees)"
   ]
  },
  {
   "cell_type": "markdown",
   "metadata": {},
   "source": [
    "# Cluster based randomization\n",
    "\n",
    "[Network A/B Testing: From Sampling to Estimation](https://hanj.cs.illinois.edu/pdf/www15_hgui.pdf)"
   ]
  },
  {
   "cell_type": "markdown",
   "metadata": {},
   "source": [
    "#### Label propagation"
   ]
  },
  {
   "cell_type": "code",
   "execution_count": 3,
   "metadata": {},
   "outputs": [
    {
     "data": {
      "image/png": "[encoded data removed]",
      "text/plain": [
       "<Figure size 432x288 with 1 Axes>"
      ]
     },
     "metadata": {},
     "output_type": "display_data"
    },
    {
     "name": "stderr",
     "output_type": "stream",
     "text": [
      "100%|██████████| 400/400 [03:42<00:00,  1.80it/s]\n"
     ]
    }
   ],
   "source": [
    "total_clusters = 100\n",
    "percent_swaps = 0\n",
    "\n",
    "iters = 400\n",
    "sub_iter = 30000\n",
    "\n",
    "current_state = np.random.randint(0, total_clusters, len(graph))\n",
    "inside_cluster = np.zeros(iters)\n",
    "\n",
    "for i in tqdm(range(iters)):\n",
    "    random_vertices = random.choices(range(len(graph)), k=int(len(graph) * percent_swaps))\n",
    "    random_labes = current_state[random_vertices].copy()\n",
    "    np.random.shuffle(random_labes)\n",
    "    current_state[random_vertices] = random_labes\n",
    "    \n",
    "    connections_with_c = np.zeros((len(graph), total_clusters))\n",
    "    for c in range(total_clusters):\n",
    "        connections_with_c[:, c] = A.dot(current_state  == c)\n",
    "\n",
    "    random_pairs = zip(np.random.choice(len(graph), sub_iter), np.random.choice(len(graph), sub_iter))\n",
    "    for a, b in random_pairs:\n",
    "        a_cat = current_state[a]\n",
    "        b_cat = current_state[b]\n",
    "\n",
    "        current_value = connections_with_c[a, a_cat] + connections_with_c[b, b_cat]\n",
    "        potential_value =  connections_with_c[a, b_cat] + connections_with_c[b, a_cat]\n",
    "\n",
    "        gain = potential_value - current_value\n",
    "        if gain > 0:\n",
    "            current_state[a] = b_cat\n",
    "            current_state[b] = a_cat\n",
    "\n",
    "            \n",
    "    for c in range(total_clusters):\n",
    "        inside_cluster[i] += np.sum(A[current_state == c].dot(current_state == c)) / 2\n",
    "    \n",
    "    if i % 10 == 0:\n",
    "        clear_output(wait=True)\n",
    "        plt.plot(inside_cluster)\n",
    "        plt.show()"
   ]
  },
  {
   "cell_type": "code",
   "execution_count": 4,
   "metadata": {},
   "outputs": [
    {
     "data": {
      "text/plain": [
       "(61.17812293456708, 10.19773077770434, 0.3249614452522582)"
      ]
     },
     "execution_count": 4,
     "metadata": {},
     "output_type": "execute_result"
    },
    {
     "data": {
      "image/png": "[encoded data removed]",
      "text/plain": [
       "<Figure size 432x288 with 1 Axes>"
      ]
     },
     "metadata": {},
     "output_type": "display_data"
    }
   ],
   "source": [
    "z_cluster = (current_state < total_clusters / 2).astype(int)\n",
    "\n",
    "sigma_treatment = A[z_cluster > 0].dot(z_cluster > 0) / degrees[z_cluster > 0]\n",
    "\n",
    "sorted_data = np.sort(sigma_treatment)\n",
    "position = scipy.stats.rankdata(sorted_data, method='ordinal')\n",
    "cdf = position / len(position)\n",
    "\n",
    "sorted_data = np.hstack((sorted_data, 1))\n",
    "cdf = np.hstack((cdf, 1))\n",
    "plt.plot(sorted_data, cdf)\n",
    "plt.xlabel('$\\\\theta$')\n",
    "plt.ylabel('$P(\\sigma_i \\leq \\\\theta)$')\n",
    "plt.xlim(0, 1)\n",
    "\n",
    "(sigma_treatment > 0.5).mean() * 100, (sigma_treatment > 0.7).mean() * 100, (sigma_treatment > 0.9).mean() * 100"
   ]
  },
  {
   "cell_type": "markdown",
   "metadata": {},
   "source": [
    "---\n",
    "# Ego based randomization\n",
    "\n",
    "[Using Ego-Clusters to Measure NetworkEffects at LinkedIn](https://arxiv.org/pdf/1903.08755.pdf)"
   ]
  },
  {
   "cell_type": "code",
   "execution_count": 5,
   "metadata": {},
   "outputs": [
    {
     "data": {
      "text/plain": [
       "array([12154,  9245,  7304,  5839,  8643,  6092,  7591,  8122,  7610])"
      ]
     },
     "execution_count": 5,
     "metadata": {},
     "output_type": "execute_result"
    }
   ],
   "source": [
    "borders = np.percentile(degrees, np.linspace(0, 100, num=10, endpoint=False), interpolation='lower')\n",
    "borders = np.unique(borders)\n",
    "bins = np.digitize(degrees, borders) - 1\n",
    "np.unique(bins, return_counts=True)[1]"
   ]
  },
  {
   "cell_type": "code",
   "execution_count": 6,
   "metadata": {},
   "outputs": [
    {
     "data": {
      "text/plain": [
       "(1259, 20499)"
      ]
     },
     "execution_count": 6,
     "metadata": {},
     "output_type": "execute_result"
    }
   ],
   "source": [
    "binned_nodes = defaultdict(lambda: [])\n",
    "for i in range(len(graph)):\n",
    "    binned_nodes[bins[i]].append(i)\n",
    "binned_nodes = dict(binned_nodes)\n",
    "\n",
    "for i in range(len(binned_nodes)):\n",
    "    random.shuffle(binned_nodes[i])\n",
    "\n",
    "upper_loss_rate = 0.2\n",
    "\n",
    "ego_nets = {}\n",
    "\n",
    "taken_nodes = set()\n",
    "\n",
    "bin_id = 0\n",
    "while True:\n",
    "    bin = binned_nodes[bin_id]        \n",
    "    while bin:\n",
    "        node_id = bin.pop()\n",
    "        if node_id in taken_nodes:\n",
    "            continue\n",
    "            \n",
    "        friends = set(graph.neighbors(node_id))\n",
    "        untaken_friends = list(friends - taken_nodes)\n",
    "        \n",
    "        if 1 - len(untaken_friends) / len(friends) > upper_loss_rate:\n",
    "            continue\n",
    "        random.shuffle(untaken_friends)\n",
    "        k = int(np.ceil((1 - upper_loss_rate) * len(friends)))\n",
    "        selected_friends = set(np.random.choice(untaken_friends, k, replace=False))\n",
    "\n",
    "        taken_nodes.add(node_id)\n",
    "        taken_nodes |= selected_friends\n",
    "        ego_nets[node_id] = selected_friends\n",
    "        break\n",
    "        \n",
    "    if not bin:\n",
    "        break\n",
    "    bin_id = (bin_id + 1) % len(binned_nodes)\n",
    "    \n",
    "len(ego_nets), len(taken_nodes)"
   ]
  },
  {
   "cell_type": "code",
   "execution_count": 7,
   "metadata": {},
   "outputs": [
    {
     "data": {
      "text/plain": [
       "(1259, 21417)"
      ]
     },
     "execution_count": 7,
     "metadata": {},
     "output_type": "execute_result"
    }
   ],
   "source": [
    "for i in set(range(len(graph))) - taken_nodes:\n",
    "    potential_egos = list(set(graph.neighbors(i)) & ego_nets.keys())\n",
    "    if potential_egos:\n",
    "        attached_ego = random.choice(potential_egos)\n",
    "        ego_nets[attached_ego].add(i)\n",
    "        taken_nodes.add(i)\n",
    "        \n",
    "ego_lists = list(ego_nets.items())\n",
    "        \n",
    "len(ego_nets), len(taken_nodes)"
   ]
  },
  {
   "cell_type": "markdown",
   "metadata": {},
   "source": [
    "# Experiment"
   ]
  },
  {
   "cell_type": "code",
   "execution_count": 8,
   "metadata": {},
   "outputs": [
    {
     "data": {
      "text/plain": [
       "<matplotlib.legend.Legend at 0x1a31d20f50>"
      ]
     },
     "execution_count": 8,
     "metadata": {},
     "output_type": "execute_result"
    },
    {
     "data": {
      "image/png": "[encoded data removed]",
      "text/plain": [
       "<Figure size 1440x504 with 4 Axes>"
      ]
     },
     "metadata": {},
     "output_type": "display_data"
    }
   ],
   "source": [
    "from sklearn.linear_model import LinearRegression as LR\n",
    "\n",
    "def fu(z, lambda_0=-1.5, lambda_1=1, lambda_2=1, iters=2):\n",
    "    y = np.zeros(len(graph))\n",
    "    for _ in range(iters):\n",
    "        y = lambda_0 + lambda_1 * z + lambda_2 * A.dot(y) / degrees + scipy.stats.norm().rvs(y.shape[0])\n",
    "    return y\n",
    "\n",
    "def simulate(iters=100, **kwargs):\n",
    "    ate = np.zeros(iters)\n",
    "    sutva = np.zeros(iters)\n",
    "    netw = np.zeros(iters)\n",
    "    dumb_netw = np.zeros(iters)\n",
    "    ego_netw = np.zeros(iters)\n",
    "\n",
    "    for i in range(iters):\n",
    "        ate[i] = np.mean(fu(np.ones(len(graph)), **kwargs)) - np.mean(fu(np.zeros(len(graph)), **kwargs))\n",
    "\n",
    "        z = scipy.stats.bernoulli(0.5).rvs(len(graph))\n",
    "        y = fu(z, **kwargs)\n",
    "        sutva[i] = np.mean(y[z > 0]) - np.mean(y[z == 0])\n",
    "        #-----\n",
    "        treatment_clusters = np.random.choice(total_clusters, replace=False, size=total_clusters//2)\n",
    "        z_cluster = np.zeros(len(graph))\n",
    "        for c in treatment_clusters:\n",
    "            z_cluster[current_state == c] = 1\n",
    "\n",
    "        n_treated = A.dot(z_cluster > 0)\n",
    "        sigma_treated = n_treated / degrees\n",
    "        y = fu(z_cluster, **kwargs)\n",
    "\n",
    "        fit_0 = scipy.stats.linregress(sigma_treated[z_cluster == 0], y[z_cluster == 0])\n",
    "        alpha_0 = fit_0.intercept\n",
    "        gamma_0 = fit_0.slope\n",
    "\n",
    "        fit_1 = scipy.stats.linregress(sigma_treated[z_cluster > 0], y[z_cluster > 0])\n",
    "        alpha_1 = fit_1.intercept\n",
    "        gamma_1 = fit_1.slope\n",
    "        netw[i] = alpha_1 + gamma_1 - alpha_0\n",
    "        #---\n",
    "        dumb_netw[i] = np.mean(y[(z_cluster > 0) & (sigma_treated > (1 - upper_loss_rate))]) -  np.mean(y[(z_cluster == 0) & (sigma_treated < upper_loss_rate)])\n",
    "        #---\n",
    "        z_ego = np.zeros(len(graph))\n",
    "        z_treated_egos = np.zeros(len(graph))\n",
    "        z_not_treated_egos = np.zeros(len(graph))\n",
    "\n",
    "        z_egos = scipy.stats.bernoulli(0.5).rvs(len(ego_lists))\n",
    "        for j in range(len(ego_lists)):\n",
    "            ego_id, alters_ids = ego_lists[j]\n",
    "            if z_egos[j] > 0:\n",
    "                z_treated_egos[ego_id] = 1\n",
    "                z_ego[ego_id] = 1\n",
    "                for alter_id in alters_ids:\n",
    "                    z_ego[alter_id] = 1\n",
    "            else:\n",
    "                z_not_treated_egos[ego_id] = 1\n",
    "        \n",
    "        assert np.sum(z_treated_egos) + np.sum(z_not_treated_egos) == len(ego_nets)\n",
    "\n",
    "        y = fu(z_ego, **kwargs)\n",
    "\n",
    "        ego_netw[i] = np.mean(y[z_treated_egos > 0]) - np.mean(y[z_not_treated_egos > 0])\n",
    "\n",
    "    return ate, sutva, netw, dumb_netw, ego_netw\n",
    "\n",
    "lambda_1s = [0.25, 0.5, 0.75, 1]\n",
    "lambda_2s = [0, 0.1, 0.5, 1]\n",
    "\n",
    "biases_sutva = np.zeros((len(lambda_1s), len(lambda_2s)))\n",
    "biases_netw = biases_sutva.copy()\n",
    "biases_dumb_netw = biases_sutva.copy()\n",
    "biases_ego_netw = biases_sutva.copy()\n",
    "\n",
    "for i in range(len(lambda_1s)):\n",
    "    for j in range(len(lambda_2s)):            \n",
    "        ate, sutva, netw, dumb_netw, ego_netw = simulate(iters=10, lambda_1=lambda_1s[i], lambda_2=lambda_2s[j])\n",
    "        biases_sutva[i, j] = np.mean(sutva - ate)\n",
    "        biases_netw[i, j] = np.mean(netw - ate)\n",
    "        biases_dumb_netw[i, j] = np.mean(dumb_netw - ate)\n",
    "        biases_ego_netw[i, j] = np.mean(ego_netw - ate)    \n",
    "\n",
    "fig, axes = plt.subplots(1, len(lambda_2s), sharey=True, figsize=(20, 7))\n",
    "\n",
    "for j, ax in enumerate(axes):\n",
    "    ax.plot(lambda_1s, biases_sutva[:, j], label='SUTVA')\n",
    "    ax.plot(lambda_1s, biases_netw[:, j], label='NETW')\n",
    "    ax.plot(lambda_1s, biases_dumb_netw[:, j], label='DUMB NETW')\n",
    "    ax.plot(lambda_1s, biases_ego_netw[:, j], label='EGO NETW')\n",
    "\n",
    "    ax.set_title(f'Network effect: {lambda_2s[j]}')\n",
    "    ax.set_ylabel('Bias')\n",
    "    ax.set_xlabel('Effect')\n",
    "    \n",
    "plt.legend()"
   ]
  },
  {
   "cell_type": "code",
   "execution_count": 9,
   "metadata": {},
   "outputs": [
    {
     "data": {
      "text/plain": [
       "(11.519292480187785, 40.62033500430788, 44.74240740004394)"
      ]
     },
     "execution_count": 9,
     "metadata": {},
     "output_type": "execute_result"
    }
   ],
   "source": [
    "ate, sutva, netw, dumb_netw, biases_ego_netw = simulate(iters=100, lambda_1=1, lambda_2=0)\n",
    "(np.std(netw) / np.std(sutva)) ** 2, (np.std(dumb_netw) / np.std(sutva)) ** 2, (np.std(biases_ego_netw) / np.std(sutva)) ** 2"
   ]
  },
  {
   "cell_type": "markdown",
   "metadata": {},
   "source": [
    "---\n",
    "# Edge based analysis\n",
    "\n",
    "[A Method for Measuring Network Effects ofOne-to-One Communication Features inOnline A/B Tests](https://arxiv.org/pdf/1903.08766.pdf)"
   ]
  },
  {
   "cell_type": "markdown",
   "metadata": {},
   "source": [
    "---\n",
    "# Common resources\n",
    "\n",
    "[Fairness through Experimentation: Inequality in A/B testing as an approach to responsible design](https://arxiv.org/abs/2002.05819)"
   ]
  }
 ],
 "metadata": {
  "kernelspec": {
   "display_name": "Python 3",
   "language": "python",
   "name": "python3"
  },
  "language_info": {
   "codemirror_mode": {
    "name": "ipython",
    "version": 3
   },
   "file_extension": ".py",
   "mimetype": "text/x-python",
   "name": "python",
   "nbconvert_exporter": "python",
   "pygments_lexer": "ipython3",
   "version": "3.7.6"
  }
 },
 "nbformat": 4,
 "nbformat_minor": 4
}
