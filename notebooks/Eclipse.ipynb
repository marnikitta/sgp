{
 "cells": [
  {
   "cell_type": "code",
   "execution_count": 186,
   "metadata": {},
   "outputs": [],
   "source": [
    "import numpy as np\n",
    "import scipy.optimize\n",
    "import scipy.stats\n",
    "import cvxpy as cp\n",
    "from matplotlib import pyplot as plt\n",
    "from concurrent.futures import ThreadPoolExecutor\n"
   ]
  },
  {
   "cell_type": "markdown",
   "metadata": {},
   "source": [
    "# Large scale linear programming"
   ]
  },
  {
   "cell_type": "markdown",
   "metadata": {},
   "source": [
    "- [Efficient Algorithms for Global Inference in Internet Marketplaces](https://arxiv.org/pdf/2103.05277.pdf)\n",
    "- [ECLIPSE: An Extreme-Scale Linear Program Solver for Web-Applications](http://proceedings.mlr.press/v119/basu20a/basu20a.pdf)\n",
    "- [Appendix: Supplemental Material for “ECLIPSE: An Extreme-Scale Linear\n",
    "Program Solver for Web-Applications\"](http://proceedings.mlr.press/v119/basu20a/basu20a-supp.pdf)"
   ]
  },
  {
   "cell_type": "markdown",
   "metadata": {},
   "source": [
    "$$\\max_{x \\in C} \\{c^Tx + \\frac{\\gamma}{2}x^Tx\\},\\ s.t. Ax <= b$$\n",
    "\n",
    "$$g_\\gamma(\\lambda) = \\inf_{x \\in C}\\{ c^Tx + \\frac{\\gamma}{2}x^Tx + \\lambda^T(Ax - b)\\}$$\n",
    "\n",
    "$$x(\\lambda) = \\prod_{C}(A^T\\lambda + c)$$\n",
    "\n",
    "$$\\nabla g_\\gamma(\\lambda) = Ax(\\lambda) + b$$\n",
    "\n",
    "$$\\lambda^{k+1} = (\\lambda^k + \\eta \\nabla g_\\gamma(\\lambda^k)_+$$"
   ]
  },
  {
   "cell_type": "code",
   "execution_count": 260,
   "metadata": {},
   "outputs": [
    {
     "data": {
      "text/plain": [
       "<matplotlib.legend.Legend at 0x7f91874c4bd0>"
      ]
     },
     "execution_count": 260,
     "metadata": {},
     "output_type": "execute_result"
    },
    {
     "data": {
      "image/png": "[encoded data removed]",
      "text/plain": [
       "<Figure size 432x288 with 1 Axes>"
      ]
     },
     "metadata": {
      "needs_background": "light"
     },
     "output_type": "display_data"
    }
   ],
   "source": [
    "n_users = 1000000\n",
    "n_blocks = 10\n",
    "\n",
    "click_probas = scipy.stats.norm(0, 1).rvs((n_users, n_blocks))\n",
    "click_probas[:, 3] += 2\n",
    "click_probas = scipy.special.expit(click_probas)\n",
    "\n",
    "hide_probas = scipy.stats.norm(-4, 1).rvs((n_users, n_blocks))\n",
    "hide_probas[:, 4] += 2\n",
    "hide_probas = scipy.special.expit(hide_probas)\n",
    "\n",
    "max_clicks = click_probas.sum(axis=0)\n",
    "\n",
    "plt.hist(hide_probas.ravel(), label='hides', bins=100, alpha=0.6)\n",
    "plt.hist(click_probas.ravel(), label='clicks', bins=100, alpha=0.6)\n",
    "plt.legend()"
   ]
  },
  {
   "cell_type": "markdown",
   "metadata": {},
   "source": [
    "## Simplex projection"
   ]
  },
  {
   "cell_type": "markdown",
   "metadata": {},
   "source": [
    "[Статья с алгоритмом](https://dl.acm.org/doi/10.1145/1390156.1390191)"
   ]
  },
  {
   "cell_type": "code",
   "execution_count": 270,
   "metadata": {},
   "outputs": [
    {
     "name": "stdout",
     "output_type": "stream",
     "text": [
      "CPU times: user 11 µs, sys: 7 µs, total: 18 µs\n",
      "Wall time: 21.9 µs\n"
     ]
    }
   ],
   "source": [
    "%%time\n",
    "\n",
    "def simplex_projection(w):\n",
    "    w_sorted = np.flip(np.sort(w, axis=1), axis=1)\n",
    "    w_cumsum = np.cumsum(w_sorted, axis=1) - 1\n",
    "    t = w_sorted - w_cumsum / (np.arange(w.shape[1]) + 1).reshape(1, -1)\n",
    "    t[t <= 0] = np.inf\n",
    "    rho = np.argmin(t, axis=1)\n",
    "    theta = w_cumsum[np.arange(w.shape[0]), rho] / (rho + 1)\n",
    "    y = w - theta.reshape(-1, 1)\n",
    "    y[y < 0] = 0\n",
    "\n",
    "    assert y.shape == w.shape\n",
    "    assert np.allclose(y.sum(axis=1), 1)\n",
    "    assert np.all(y >= 0)\n",
    "\n",
    "    return y\n",
    "\n",
    "def fast_simplex_projection(w, workers=16):\n",
    "    block = (w.shape[0] // (workers * 5))\n",
    "\n",
    "    with ThreadPoolExecutor(max_workers=workers) as pool:\n",
    "        result2 = pool.map(simplex_projection, [w[i:i+block] for i in range(0, w.shape[0], block)])\n",
    "        result2 = np.vstack(list(result2))\n",
    "    return result2"
   ]
  },
  {
   "cell_type": "code",
   "execution_count": 264,
   "metadata": {},
   "outputs": [
    {
     "name": "stdout",
     "output_type": "stream",
     "text": [
      "CPU times: user 420 ms, sys: 127 ms, total: 547 ms\n",
      "Wall time: 549 ms\n"
     ]
    }
   ],
   "source": [
    "%%time\n",
    "result1 = simplex_projection(click_probas)"
   ]
  },
  {
   "cell_type": "code",
   "execution_count": 265,
   "metadata": {},
   "outputs": [
    {
     "name": "stdout",
     "output_type": "stream",
     "text": [
      "CPU times: user 553 ms, sys: 175 ms, total: 729 ms\n",
      "Wall time: 237 ms\n"
     ]
    }
   ],
   "source": [
    "%%time\n",
    "result2 = fast_simplex_projection(click_probas)\n",
    "\n",
    "assert np.alltrue(result2 == result1)"
   ]
  },
  {
   "cell_type": "code",
   "execution_count": 266,
   "metadata": {},
   "outputs": [
    {
     "name": "stdout",
     "output_type": "stream",
     "text": [
      "CPU times: user 1.72 s, sys: 377 ms, total: 2.1 s\n",
      "Wall time: 1.02 s\n"
     ]
    }
   ],
   "source": [
    "%%time\n",
    "\n",
    "test_show_proba = np.ones_like(click_probas)\n",
    "test_min_clicks = max_clicks * 0.01\n",
    "test_max_hides = np.sum(np.min(hide_probas, axis=1)) * 0.8\n",
    "\n",
    "test_lambd = np.ones(click_probas.shape[1] + 1)\n",
    "\n",
    "def A_dot_x(click_probas, hide_probas, show_proba):\n",
    "    return np.hstack((-np.sum(show_proba * click_probas, axis=0), np.sum(show_proba * hide_probas)))\n",
    "assert A_dot_x(click_probas, hide_probas, test_show_proba).shape == test_lambd.shape\n",
    "\n",
    "def At_dot_lambda(clicks_probas, hide_probas, lambd):\n",
    "    return -clicks_probas * lambd[:-1] + hide_probas * lambd[-1]\n",
    "assert At_dot_lambda(click_probas, hide_probas, test_lambd).shape == click_probas.shape\n",
    "\n",
    "def At_dot_lambda_p_c(click_probas, hide_probas, lambd):\n",
    "    return At_dot_lambda(click_probas, hide_probas, lambd) - click_probas\n",
    "assert At_dot_lambda_p_c(click_probas, hide_probas, test_lambd).shape == click_probas.shape\n",
    "\n",
    "def x_lambda(click_probas, hide_probas, lambd, gamma):\n",
    "    return fast_simplex_projection(At_dot_lambda_p_c(click_probas, hide_probas, lambd) * -1. / gamma)\n",
    "assert x_lambda(click_probas, hide_probas, test_lambd, gamma=1).shape == click_probas.shape\n",
    "\n",
    "\n",
    "def grad_g(click_probas, hide_probas, lambd, min_clicks, max_hides, gamma):\n",
    "    assert click_probas.shape == hide_probas.shape\n",
    "    assert lambd.shape[0] == click_probas.shape[1] + 1\n",
    "    \n",
    "    show_proba = x_lambda(click_probas, hide_probas, lambd, gamma)\n",
    "    grad = A_dot_x(click_probas, hide_probas, show_proba) \n",
    "    \n",
    "    grad[:-1] += min_clicks\n",
    "    grad[-1] = grad[-1] - max_hides\n",
    "\n",
    "    target = -np.sum(click_probas * show_proba) + gamma / 2 * np.sum(show_proba * show_proba)\n",
    "\n",
    "    g = target + lambd.dot(grad)\n",
    "    return g, grad, target\n",
    "\n",
    "assert grad_g(click_probas, hide_probas, test_lambd, test_min_clicks, test_max_hides, 1)[1].shape == test_lambd.shape\n",
    "\n"
   ]
  },
  {
   "cell_type": "code",
   "execution_count": 280,
   "metadata": {},
   "outputs": [
    {
     "name": "stdout",
     "output_type": "stream",
     "text": [
      "CPU times: user 9.44 s, sys: 2.7 s, total: 12.1 s\n",
      "Wall time: 6.37 s\n"
     ]
    },
    {
     "data": {
      "text/plain": [
       "0.7424460776972988"
      ]
     },
     "execution_count": 280,
     "metadata": {},
     "output_type": "execute_result"
    }
   ],
   "source": [
    "%%time\n",
    "gamma = 1e-2\n",
    "scipy.optimize.check_grad(lambda x: grad_g(click_probas, hide_probas, x, test_min_clicks, test_max_hides, gamma)[0],\n",
    "                          lambda x: grad_g(click_probas, hide_probas, x, test_min_clicks, test_max_hides, gamma)[1],\n",
    "                          test_lambd)"
   ]
  },
  {
   "cell_type": "markdown",
   "metadata": {},
   "source": [
    "# Backtracking + оценка константы липшеца"
   ]
  },
  {
   "cell_type": "code",
   "execution_count": 296,
   "metadata": {},
   "outputs": [],
   "source": [
    "def eclipse(click_probas, hide_probas, min_clicks, max_hides, gamma=1e-1, verbose=True):\n",
    "\n",
    "    lambd = np.ones(click_probas.shape[1] + 1)\n",
    "\n",
    "    target_history = []\n",
    "    dual_history = []\n",
    "\n",
    "    grad_old, lambd_old = None, None\n",
    "    hist = []\n",
    "\n",
    "    g, grad, _ = grad_g(click_probas, hide_probas, lambd, min_clicks, max_hides, gamma)\n",
    "\n",
    "    for i in range(200):    \n",
    "        if len(hist) > 0:\n",
    "            eta = 1 / (np.max(hist))\n",
    "        else:\n",
    "            # Первый шаг пристрелочный, дальше оцениваем константу липшеца по истории\n",
    "            eta = 1e-9\n",
    "\n",
    "        while True:\n",
    "            lambd_eta = np.maximum(lambd + eta * grad, 0)\n",
    "            g_eta, grad_eta, f_eta = grad_g(click_probas, hide_probas, lambd_eta, max_clicks * slack, max_hides, gamma)\n",
    "\n",
    "            if g_eta < g - 1e-5 * eta * grad.dot(grad): # Armijo condition\n",
    "                eta = eta / 2\n",
    "            else:\n",
    "                break\n",
    "\n",
    "        if g > g_eta:\n",
    "            break\n",
    "\n",
    "        if len(hist) > 0 and verbose:\n",
    "            print(f'primal={f_eta:.2f}, dual={g_eta:.2f}, gap={f_eta - g_eta:.2f}, eta={eta:2f}, L_max={1 / np.max(hist):2f}')\n",
    "\n",
    "        if grad_old is not None and lambd_old is not None:\n",
    "            L = (scipy.linalg.norm(grad - grad_old) / scipy.linalg.norm(lambd - lambd_old))\n",
    "            if np.isfinite(L) and L > 0:\n",
    "                hist.append(L)\n",
    "                hist = hist[-5:]\n",
    "\n",
    "        lambd_old = lambd\n",
    "        lambd = lambd_eta\n",
    "\n",
    "        grad_old = grad\n",
    "        g, grad = g_eta, grad_eta\n",
    "\n",
    "        target_history.append(f_eta)\n",
    "        dual_history.append(g_eta)\n",
    "\n",
    "        if np.abs(f_eta - g_eta) / (1 + np.abs(f_eta) + np.abs(g_eta)) < 1e-7:\n",
    "            break\n",
    "            \n",
    "    return {'x': click_probas, 'dual': lambd, 'gaps': np.array(target_history) - np.array(dual_history)}"
   ]
  },
  {
   "cell_type": "code",
   "execution_count": 298,
   "metadata": {},
   "outputs": [
    {
     "name": "stdout",
     "output_type": "stream",
     "text": [
      "primal=-752278.81, dual=-1261741.29, gap=509462.48, eta=0.000001, L_max=0.000001\n",
      "primal=-743558.04, dual=-1204032.27, gap=460474.23, eta=0.000001, L_max=0.000001\n",
      "primal=-735768.66, dual=-1160620.99, gap=424852.33, eta=0.000001, L_max=0.000001\n",
      "primal=-729599.37, dual=-1123484.63, gap=393885.26, eta=0.000001, L_max=0.000001\n",
      "primal=-724764.14, dual=-1089313.73, gap=364549.59, eta=0.000001, L_max=0.000001\n",
      "primal=-720952.56, dual=-1056627.52, gap=335674.96, eta=0.000001, L_max=0.000001\n",
      "primal=-717762.02, dual=-1023039.94, gap=305277.92, eta=0.000001, L_max=0.000001\n",
      "primal=-719054.24, dual=-899395.67, gap=180341.43, eta=0.000005, L_max=0.000005\n",
      "primal=-787384.48, dual=-802796.97, gap=15412.48, eta=0.000007, L_max=0.000007\n",
      "primal=-789194.44, dual=-797542.97, gap=8348.52, eta=0.000009, L_max=0.000009\n",
      "primal=-788568.63, dual=-796291.27, gap=7722.64, eta=0.000003, L_max=0.000003\n",
      "primal=-788716.13, dual=-795092.43, gap=6376.30, eta=0.000003, L_max=0.000003\n",
      "primal=-788863.09, dual=-793945.28, gap=5082.19, eta=0.000003, L_max=0.000003\n",
      "primal=-788992.66, dual=-792852.92, gap=3860.26, eta=0.000003, L_max=0.000003\n",
      "primal=-789102.69, dual=-791818.64, gap=2715.95, eta=0.000003, L_max=0.000003\n",
      "primal=-789156.94, dual=-789202.66, gap=45.72, eta=0.000019, L_max=0.000019\n"
     ]
    }
   ],
   "source": [
    "slack = np.repeat(0.0001, click_probas.shape[1])\n",
    "slack[7] = 0.5\n",
    "min_clicks = max_clicks * slack\n",
    "\n",
    "max_hides = np.sum(np.min(hide_probas, axis=1)) * 10\n",
    "\n",
    "solution = eclipse(click_probas, hide_probas, min_clicks, max_hides, gamma=1e-1, verbose=True)"
   ]
  },
  {
   "cell_type": "markdown",
   "metadata": {},
   "source": [
    "# Результаты"
   ]
  },
  {
   "cell_type": "code",
   "execution_count": 297,
   "metadata": {},
   "outputs": [
    {
     "name": "stdout",
     "output_type": "stream",
     "text": [
      "[0.   0.   0.   0.   0.   0.   0.   0.48 0.   0.   0.  ]\n",
      "hides: 213967.0 <= 48663.0\n",
      "500228: 293647 >= 50\n",
      "499763: 293148 >= 49\n",
      "500161: 293570 >= 50\n",
      "844455: 728667 >= 84\n",
      "500180: 293542 >= 50\n",
      "499352: 292763 >= 49\n",
      "500168: 293508 >= 50\n",
      "500378: 293731 >= 250189\n",
      "500227: 293510 >= 50\n",
      "500103: 293418 >= 50\n"
     ]
    }
   ],
   "source": [
    "show_proba = solution['x']\n",
    "\n",
    "clicks = (click_probas * show_proba).sum(axis=0).astype(np.int)\n",
    "views = (show_proba).sum(axis=0).astype(np.int)\n",
    "\n",
    "bounds = min_clicks.astype(np.int)\n",
    "\n",
    "print(lambd.round(2))\n",
    "print(f'hides: {np.sum(hide_probas * show_proba).round()} <= {max_hides.round()}')\n",
    "for v, c, b in zip(views, clicks, bounds):\n",
    "    print(f'{v}: {c} >= {b}')"
   ]
  },
  {
   "cell_type": "markdown",
   "metadata": {},
   "source": [
    "# linalg"
   ]
  },
  {
   "cell_type": "code",
   "execution_count": 279,
   "metadata": {},
   "outputs": [
    {
     "name": "stderr",
     "output_type": "stream",
     "text": [
      "/opt/anaconda3/lib/python3.7/site-packages/cvxpy/problems/problem.py:1279: UserWarning: Solution may be inaccurate. Try another solver, adjusting the solver settings, or solve with verbose=True for more information.\n",
      "  \"Solution may be inaccurate. Try another solver, \"\n"
     ]
    },
    {
     "name": "stdout",
     "output_type": "stream",
     "text": [
      "\n",
      "The optimal value is nan\n",
      "A dual solution is\n",
      "[nan nan nan nan nan nan nan nan nan nan]\n",
      "CPU times: user 1min 1s, sys: 54.3 s, total: 1min 55s\n",
      "Wall time: 2min 26s\n"
     ]
    }
   ],
   "source": [
    "%%time\n",
    "x = cp.Variable(click_probas.shape)\n",
    "\n",
    "prob = cp.Problem(cp.Maximize(cp.sum(cp.multiply(x, click_probas))),\n",
    "                 [cp.sum(cp.multiply(x, click_probas), axis=0) >= min_clicks, \n",
    "                  cp.sum(cp.multiply(x, hide_probas)) <= max_hides,\n",
    "                  x >= 0, \n",
    "                  cp.sum(x, axis=1) == 1])\n",
    "prob.solve(verbose=False)\n",
    "\n",
    "# Print result.\n",
    "print(\"\\nThe optimal value is\", prob.value)\n",
    "print(\"A dual solution is\")\n",
    "print(prob.constraints[0].dual_value)"
   ]
  }
 ],
 "metadata": {
  "kernelspec": {
   "display_name": "Python 3",
   "language": "python",
   "name": "python3"
  },
  "language_info": {
   "codemirror_mode": {
    "name": "ipython",
    "version": 3
   },
   "file_extension": ".py",
   "mimetype": "text/x-python",
   "name": "python",
   "nbconvert_exporter": "python",
   "pygments_lexer": "ipython3",
   "version": "3.7.6"
  }
 },
 "nbformat": 4,
 "nbformat_minor": 4
}
