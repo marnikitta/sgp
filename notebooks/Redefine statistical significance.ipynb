{
 "cells": [
  {
   "cell_type": "code",
   "execution_count": null,
   "metadata": {},
   "outputs": [],
   "source": []
  },
  {
   "cell_type": "code",
   "execution_count": 134,
   "metadata": {
    "slideshow": {
     "slide_type": "skip"
    }
   },
   "outputs": [],
   "source": [
    "import numpy as np\n",
    "import scipy.stats\n",
    "from matplotlib import pyplot as plt\n",
    "import matplotlib\n",
    "import seaborn as sns\n",
    "\n",
    "sns.set_style(\"whitegrid\")"
   ]
  },
  {
   "cell_type": "markdown",
   "metadata": {
    "slideshow": {
     "slide_type": "slide"
    }
   },
   "source": [
    "# Bayes 101"
   ]
  },
  {
   "cell_type": "markdown",
   "metadata": {
    "slideshow": {
     "slide_type": "subslide"
    }
   },
   "source": [
    "$$P(H_0|Data) = \\frac{P(Data|H_0)P(H_0)}{P(Data)}$$"
   ]
  },
  {
   "cell_type": "markdown",
   "metadata": {
    "slideshow": {
     "slide_type": "fragment"
    }
   },
   "source": [
    "$$\\frac{P(H_1|Data)}{P(H_0|Data)} = \\frac{P(Data|H_1)P(H_1)}{P(Data|H_0)P(H_0)} = BayesFactor \\times PriorOdss$$"
   ]
  },
  {
   "cell_type": "markdown",
   "metadata": {
    "slideshow": {
     "slide_type": "slide"
    }
   },
   "source": [
    "# NHST 101"
   ]
  },
  {
   "cell_type": "markdown",
   "metadata": {
    "slideshow": {
     "slide_type": "subslide"
    }
   },
   "source": [
    "$$X_i \\sim N(\\mu, 1)$$\n",
    "\n",
    "$$H_0: \\mu = 0$$\n",
    "$$H_1: \\mu \\neq 0$$\n",
    "\n",
    "$$pval = P(\\psi > \\bar{X} | H_0)$$"
   ]
  },
  {
   "cell_type": "markdown",
   "metadata": {
    "slideshow": {
     "slide_type": "fragment"
    }
   },
   "source": [
    "$$X_i \\sim N(\\mu, 1)$$\n",
    "\n",
    "$$H_0: \\mu = 0$$\n",
    "$$H_1: \\mu = ±m$$\n",
    "\n",
    "$$pval = P(\\psi > \\bar{X} | H_0)$$"
   ]
  },
  {
   "cell_type": "markdown",
   "metadata": {
    "slideshow": {
     "slide_type": "slide"
    }
   },
   "source": [
    "# Power analysis 101"
   ]
  },
  {
   "cell_type": "markdown",
   "metadata": {
    "slideshow": {
     "slide_type": "subslide"
    }
   },
   "source": [
    "$$K(\\alpha, \\beta) = (\\Phi^{-1}(1 - \\frac{\\alpha}{2}) + \\Phi^{-1}(1 - \\beta))^2$$\n",
    "\n",
    "$$n = \\frac{K(\\alpha, \\beta)}{e^2}$$\n",
    "\n",
    "$\\alpha$ - уровень значимости (FPR), $\\beta$ - 1-мощность, $n$ - размер выборок, $e$ - улучшение"
   ]
  },
  {
   "cell_type": "markdown",
   "metadata": {
    "slideshow": {
     "slide_type": "slide"
    }
   },
   "source": [
    "# 0.001 vs 0.05"
   ]
  },
  {
   "cell_type": "markdown",
   "metadata": {
    "slideshow": {
     "slide_type": "subslide"
    }
   },
   "source": [
    "$$X_i \\sim N(\\mu, 1)$$\n",
    "\n",
    "$$H_0: \\mu = 0$$\n",
    "$$H_1: \\mu = ±m$$\n",
    "\n",
    "$$m = \\frac{K(0.05, 0.1)}{\\sqrt{10000}}$$\n",
    "\n",
    "m - то, что можем затрекать на уровне 0.05 и мощностью 0.9 (типичные условия)"
   ]
  },
  {
   "cell_type": "markdown",
   "metadata": {
    "slideshow": {
     "slide_type": "subslide"
    }
   },
   "source": [
    "$$P(Data|H_0) = N(Data|0, 1)$$"
   ]
  },
  {
   "cell_type": "markdown",
   "metadata": {
    "slideshow": {
     "slide_type": "fragment"
    }
   },
   "source": [
    "$$P(Data|H_1) = \\frac{N(Data|m, 1) + N(Data|m, 1)}{2}$$\n"
   ]
  },
  {
   "cell_type": "markdown",
   "metadata": {
    "slideshow": {
     "slide_type": "fragment"
    }
   },
   "source": [
    "$$\\frac{P(H_1|Data)}{P(H_0|Data)} = \\frac{N(Data|m, 1) + N(Data|m, 1)}{2N(Data|0, 1)} \\times \\frac{P(H_1)}{P(H_0)}$$"
   ]
  },
  {
   "cell_type": "markdown",
   "metadata": {
    "slideshow": {
     "slide_type": "subslide"
    }
   },
   "source": [
    "$$Data \\rightarrow pval$$"
   ]
  },
  {
   "cell_type": "markdown",
   "metadata": {
    "slideshow": {
     "slide_type": "fragment"
    }
   },
   "source": [
    "$$Data \\rightarrow \\frac{P(H_1|Data)}{P(H_0|Data)}$$"
   ]
  },
  {
   "cell_type": "markdown",
   "metadata": {
    "slideshow": {
     "slide_type": "fragment"
    }
   },
   "source": [
    "$$\\frac{P(H_1|Data)}{P(H_0|Data)} \\leftrightarrow pval$$"
   ]
  },
  {
   "cell_type": "code",
   "execution_count": 160,
   "metadata": {
    "slideshow": {
     "slide_type": "skip"
    }
   },
   "outputs": [],
   "source": [
    "def k(alpha, beta):\n",
    "    return (scipy.stats.norm.ppf(1 - alpha / 2) + scipy.stats.norm.ppf(1 - beta))**2\n",
    "\n",
    "m_power = k(0.05, 0.1) ** 0.5\n",
    "\n",
    "def f_bf_power_rope(p_values):\n",
    "    x_bar = scipy.stats.norm.ppf(1 - p_values / 2)\n",
    "    bf_h1 = 0.5 * (scipy.stats.norm.pdf(x_bar - m_power) + scipy.stats.norm.pdf(x_bar + m_power))\n",
    "    bf_h0 = scipy.stats.norm.pdf(x_bar)\n",
    "    return bf_h1 / bf_h0\n",
    "\n",
    "\n",
    "def f_bf_power(p_values):\n",
    "    x_bar = scipy.stats.norm.ppf(1 - p_values / 2)\n",
    "    bf_h1 = 0.5 * (scipy.stats.norm.pdf(x_bar - m_power) + scipy.stats.norm.pdf(x_bar + m_power))\n",
    "    bf_h0 = scipy.stats.norm.pdf(x_bar)\n",
    "    return bf_h1 / bf_h0\n",
    "\n",
    "def f_bf_ll(p_values):\n",
    "    x_bar = scipy.stats.norm.ppf(1 - p_values / 2)\n",
    "    bf_h1 = 0.5 * (scipy.stats.norm.pdf(0) + scipy.stats.norm.pdf(0))\n",
    "    bf_h0 = scipy.stats.norm.pdf(x_bar)\n",
    "    return bf_h1 / bf_h0"
   ]
  },
  {
   "cell_type": "code",
   "execution_count": 187,
   "metadata": {
    "slideshow": {
     "slide_type": "skip"
    }
   },
   "outputs": [],
   "source": [
    "def do_plot(title, prior=1):\n",
    "    f, ax = plt.subplots(figsize=(7, 7), dpi=100)\n",
    "    ax.set(xscale=\"log\", yscale=\"log\")\n",
    "\n",
    "    p_values = np.linspace(0.001, 0.1, 10000)\n",
    "    sns.lineplot(p_values, f_bf_power(p_values) * prior, ax=ax)\n",
    "\n",
    "    x_ticks = np.array([0.001, 0.005, 0.01, 0.05, 0.1])\n",
    "    y_ticks = f_bf_power(x_ticks) * prior\n",
    "\n",
    "    ax.set_xticks(x_ticks)\n",
    "    ax.get_xaxis().set_major_formatter(matplotlib.ticker.ScalarFormatter())\n",
    "    ax.set_xlabel('p-value')\n",
    "\n",
    "    ax.set_yticks(y_ticks)\n",
    "    ax.get_yaxis().set_major_formatter(matplotlib.ticker.ScalarFormatter())\n",
    "\n",
    "    ax.set_ylabel(title)\n",
    "\n",
    "    plt.show()"
   ]
  },
  {
   "cell_type": "code",
   "execution_count": 188,
   "metadata": {
    "slideshow": {
     "slide_type": "subslide"
    }
   },
   "outputs": [
    {
     "data": {
      "image/png": "[encoded data removed]",
      "text/plain": [
       "<Figure size 700x700 with 1 Axes>"
      ]
     },
     "metadata": {},
     "output_type": "display_data"
    }
   ],
   "source": [
    "do_plot('Bayes Factor')"
   ]
  },
  {
   "cell_type": "code",
   "execution_count": 189,
   "metadata": {
    "slideshow": {
     "slide_type": "subslide"
    }
   },
   "outputs": [
    {
     "data": {
      "image/png": "[encoded data removed]",
      "text/plain": [
       "<Figure size 700x700 with 1 Axes>"
      ]
     },
     "metadata": {},
     "output_type": "display_data"
    }
   ],
   "source": [
    "do_plot('Odds', 0.1)"
   ]
  },
  {
   "cell_type": "markdown",
   "metadata": {
    "slideshow": {
     "slide_type": "subslide"
    }
   },
   "source": [
    "$$n = \\frac{K(\\alpha, \\beta)}{e^2}$$"
   ]
  },
  {
   "cell_type": "code",
   "execution_count": 180,
   "metadata": {
    "slideshow": {
     "slide_type": "subslide"
    }
   },
   "outputs": [
    {
     "data": {
      "text/plain": [
       "(1.9894411628807487, 1.59092576122042)"
      ]
     },
     "execution_count": 180,
     "metadata": {},
     "output_type": "execute_result"
    }
   ],
   "source": [
    "k(0.001, 0.1) / k(0.05, 0.1), k(0.005, 0.1) / k(0.05, 0.1)"
   ]
  },
  {
   "cell_type": "markdown",
   "metadata": {},
   "source": [
    "# BayesFactor / p-value as a function of N"
   ]
  },
  {
   "cell_type": "code",
   "execution_count": 287,
   "metadata": {},
   "outputs": [
    {
     "data": {
      "text/plain": [
       "array([0.32905267, 0.3274357 , 0.32584233, ..., 0.03290853, 0.0329069 ,\n",
       "       0.03290527])"
      ]
     },
     "execution_count": 287,
     "metadata": {},
     "output_type": "execute_result"
    }
   ],
   "source": [
    "m = 0.01\n",
    "p_value = 0.001\n",
    "\n",
    "n = np.linspace(100, 10000, 10000)\n",
    "x_bar = scipy.stats.norm.ppf(1 - p_value / 2) / np.sqrt(n)\n",
    "x_bar"
   ]
  },
  {
   "cell_type": "code",
   "execution_count": 288,
   "metadata": {},
   "outputs": [
    {
     "data": {
      "text/plain": [
       "array([0.00186493, 0.0018658 , 0.00186667, ..., 0.01449165, 0.01449329,\n",
       "       0.01449493])"
      ]
     },
     "execution_count": 288,
     "metadata": {},
     "output_type": "execute_result"
    }
   ],
   "source": [
    "bf_h1 = 0.5 * (scipy.stats.norm.pdf((x_bar - m) * np.sqrt(n)) + scipy.stats.norm.pdf((x_bar + m) * np.sqrt(n)))\n",
    "bf_h1"
   ]
  },
  {
   "cell_type": "code",
   "execution_count": 289,
   "metadata": {},
   "outputs": [
    {
     "data": {
      "text/plain": [
       "array([0.00186493, 0.0018658 , 0.00186667, ..., 0.01449165, 0.01449329,\n",
       "       0.01449493])"
      ]
     },
     "execution_count": 289,
     "metadata": {},
     "output_type": "execute_result"
    }
   ],
   "source": [
    "bf_h0 = scipy.stats.norm.pdf(x_bar * np.sqrt(n))\n",
    "bf_h1"
   ]
  },
  {
   "cell_type": "code",
   "execution_count": 290,
   "metadata": {},
   "outputs": [
    {
     "data": {
      "text/plain": [
       "[<matplotlib.lines.Line2D at 0x1a2186b9d0>]"
      ]
     },
     "execution_count": 290,
     "metadata": {},
     "output_type": "execute_result"
    },
    {
     "data": {
      "image/png": "[encoded data removed]",
      "text/plain": [
       "<Figure size 432x288 with 1 Axes>"
      ]
     },
     "metadata": {},
     "output_type": "display_data"
    }
   ],
   "source": [
    "bf = bf_h1 / bf_h0\n",
    "\n",
    "plt.plot(np.sqrt(n), p_value / bf)"
   ]
  },
  {
   "cell_type": "code",
   "execution_count": null,
   "metadata": {},
   "outputs": [],
   "source": []
  }
 ],
 "metadata": {
  "kernelspec": {
   "display_name": "Python 3",
   "language": "python",
   "name": "python3"
  },
  "language_info": {
   "codemirror_mode": {
    "name": "ipython",
    "version": 3
   },
   "file_extension": ".py",
   "mimetype": "text/x-python",
   "name": "python",
   "nbconvert_exporter": "python",
   "pygments_lexer": "ipython3",
   "version": "3.7.6"
  }
 },
 "nbformat": 4,
 "nbformat_minor": 4
}
