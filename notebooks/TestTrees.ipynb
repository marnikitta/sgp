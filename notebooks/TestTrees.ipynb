{
 "cells": [
  {
   "cell_type": "code",
   "execution_count": 1,
   "metadata": {},
   "outputs": [],
   "source": [
    "%load_ext autoreload\n",
    "%autoreload 2\n",
    "\n",
    "import sys\n",
    "sys.path.append('../')\n",
    "\n",
    "from matplotlib import pyplot as plt\n",
    "\n",
    "from typing import List\n",
    "\n",
    "import numpy as np\n",
    "from scipy.stats import kendalltau\n",
    "from sklearn.datasets import load_boston\n",
    "from sklearn.metrics import r2_score\n",
    "from sklearn.model_selection import train_test_split\n",
    "\n",
    "from sgp.trees.boosting import Boosting, L2Loss, PairwiseLL\n",
    "from sgp.trees.forest import RandomForest\n",
    "from sgp.trees.loss import MSELoss, MSEUpliftLoss\n",
    "from sgp.trees.tree import DecisionTree, DecisionTreeModel\n",
    "from sgp.tests.test_trees import benchmark_tree\n",
    "from sgp.trees.binarizer import Binarizer"
   ]
  },
  {
   "cell_type": "code",
   "execution_count": 3,
   "metadata": {},
   "outputs": [
    {
     "name": "stdout",
     "output_type": "stream",
     "text": [
      ".. _boston_dataset:\n",
      "\n",
      "Boston house prices dataset\n",
      "---------------------------\n",
      "\n",
      "**Data Set Characteristics:**  \n",
      "\n",
      "    :Number of Instances: 506 \n",
      "\n",
      "    :Number of Attributes: 13 numeric/categorical predictive. Median Value (attribute 14) is usually the target.\n",
      "\n",
      "    :Attribute Information (in order):\n",
      "        - CRIM     per capita crime rate by town\n",
      "        - ZN       proportion of residential land zoned for lots over 25,000 sq.ft.\n",
      "        - INDUS    proportion of non-retail business acres per town\n",
      "        - CHAS     Charles River dummy variable (= 1 if tract bounds river; 0 otherwise)\n",
      "        - NOX      nitric oxides concentration (parts per 10 million)\n",
      "        - RM       average number of rooms per dwelling\n",
      "        - AGE      proportion of owner-occupied units built prior to 1940\n",
      "        - DIS      weighted distances to five Boston employment centres\n",
      "        - RAD      index of accessibility to radial highways\n",
      "        - TAX      full-value property-tax rate per $10,000\n",
      "        - PTRATIO  pupil-teacher ratio by town\n",
      "        - B        1000(Bk - 0.63)^2 where Bk is the proportion of blacks by town\n",
      "        - LSTAT    % lower status of the population\n",
      "        - MEDV     Median value of owner-occupied homes in $1000's\n",
      "\n",
      "    :Missing Attribute Values: None\n",
      "\n",
      "    :Creator: Harrison, D. and Rubinfeld, D.L.\n",
      "\n",
      "This is a copy of UCI ML housing dataset.\n",
      "https://archive.ics.uci.edu/ml/machine-learning-databases/housing/\n",
      "\n",
      "\n",
      "This dataset was taken from the StatLib library which is maintained at Carnegie Mellon University.\n",
      "\n",
      "The Boston house-price data of Harrison, D. and Rubinfeld, D.L. 'Hedonic\n",
      "prices and the demand for clean air', J. Environ. Economics & Management,\n",
      "vol.5, 81-102, 1978.   Used in Belsley, Kuh & Welsch, 'Regression diagnostics\n",
      "...', Wiley, 1980.   N.B. Various transformations are used in the table on\n",
      "pages 244-261 of the latter.\n",
      "\n",
      "The Boston house-price data has been used in many machine learning papers that address regression\n",
      "problems.   \n",
      "     \n",
      ".. topic:: References\n",
      "\n",
      "   - Belsley, Kuh & Welsch, 'Regression diagnostics: Identifying Influential Data and Sources of Collinearity', Wiley, 1980. 244-261.\n",
      "   - Quinlan,R. (1993). Combining Instance-Based and Model-Based Learning. In Proceedings on the Tenth International Conference of Machine Learning, 236-243, University of Massachusetts, Amherst. Morgan Kaufmann.\n",
      "\n"
     ]
    }
   ],
   "source": [
    "ds = load_boston()\n",
    "\n",
    "X = ds['data']\n",
    "y = ds['target']\n",
    "xnames = ds['feature_names']\n",
    "print(ds['DESCR'])"
   ]
  },
  {
   "cell_type": "code",
   "execution_count": 4,
   "metadata": {},
   "outputs": [],
   "source": [
    "X_train, X_test, y_train, y_test = train_test_split(X, y, test_size=0.2, random_state=9)"
   ]
  },
  {
   "cell_type": "code",
   "execution_count": 5,
   "metadata": {},
   "outputs": [],
   "source": [
    "forest = RandomForest(max_depth=6, n_trees=400, n_bins=128, random_state=31, n_jobs=5, verbose=False)\n",
    "trees = forest.fit(X_train, MSELoss().point_stats(y_train), MSELoss(min_samples_leaf=10))"
   ]
  },
  {
   "cell_type": "code",
   "execution_count": 6,
   "metadata": {},
   "outputs": [
    {
     "data": {
      "text/plain": [
       "0.7261887311191795"
      ]
     },
     "execution_count": 6,
     "metadata": {},
     "output_type": "execute_result"
    }
   ],
   "source": [
    "predicts = trees.predict(X_test)\n",
    "r2_score(y_test, predicts)"
   ]
  },
  {
   "cell_type": "code",
   "execution_count": 7,
   "metadata": {},
   "outputs": [
    {
     "data": {
      "text/plain": [
       "array(['LSTAT', 'RM', 'CRIM', 'NOX', 'DIS', 'PTRATIO', 'TAX', 'AGE', 'B',\n",
       "       'RAD', 'INDUS', 'ZN', 'CHAS'], dtype='<U7')"
      ]
     },
     "execution_count": 7,
     "metadata": {},
     "output_type": "execute_result"
    }
   ],
   "source": [
    "bin_importances = trees.importances()\n",
    "feature_importances = np.sum(bin_importances, axis=1)\n",
    "top_features = np.argsort(-feature_importances)\n",
    "xnames[top_features]"
   ]
  },
  {
   "cell_type": "code",
   "execution_count": 8,
   "metadata": {},
   "outputs": [
    {
     "ename": "TypeError",
     "evalue": "'tuple' object cannot be interpreted as an integer",
     "output_type": "error",
     "traceback": [
      "\u001b[0;31m---------------------------------------------------------------------------\u001b[0m",
      "\u001b[0;31mTypeError\u001b[0m                                 Traceback (most recent call last)",
      "\u001b[0;32m<ipython-input-8-c51791108efe>\u001b[0m in \u001b[0;36m<module>\u001b[0;34m\u001b[0m\n\u001b[0;32m----> 1\u001b[0;31m \u001b[0mresult\u001b[0m\u001b[0;34m,\u001b[0m \u001b[0mstd\u001b[0m \u001b[0;34m=\u001b[0m \u001b[0mtrees\u001b[0m\u001b[0;34m.\u001b[0m\u001b[0mpdp\u001b[0m\u001b[0;34m(\u001b[0m\u001b[0;34m)\u001b[0m\u001b[0;34m\u001b[0m\u001b[0;34m\u001b[0m\u001b[0m\n\u001b[0m\u001b[1;32m      2\u001b[0m \u001b[0;34m\u001b[0m\u001b[0m\n\u001b[1;32m      3\u001b[0m \u001b[0;32mfor\u001b[0m \u001b[0mi\u001b[0m \u001b[0;32min\u001b[0m \u001b[0mtop_features\u001b[0m\u001b[0;34m[\u001b[0m\u001b[0;34m:\u001b[0m\u001b[0;36m1\u001b[0m\u001b[0;34m]\u001b[0m\u001b[0;34m:\u001b[0m\u001b[0;34m\u001b[0m\u001b[0;34m\u001b[0m\u001b[0m\n\u001b[1;32m      4\u001b[0m     \u001b[0mplt\u001b[0m\u001b[0;34m.\u001b[0m\u001b[0mplot\u001b[0m\u001b[0;34m(\u001b[0m\u001b[0mtrees\u001b[0m\u001b[0;34m.\u001b[0m\u001b[0mbinarizer\u001b[0m\u001b[0;34m.\u001b[0m\u001b[0mboundaries\u001b[0m\u001b[0;34m[\u001b[0m\u001b[0mi\u001b[0m\u001b[0;34m]\u001b[0m\u001b[0;34m,\u001b[0m \u001b[0mresult\u001b[0m\u001b[0;34m[\u001b[0m\u001b[0mi\u001b[0m\u001b[0;34m]\u001b[0m\u001b[0;34m)\u001b[0m\u001b[0;34m\u001b[0m\u001b[0;34m\u001b[0m\u001b[0m\n\u001b[1;32m      5\u001b[0m     \u001b[0mplt\u001b[0m\u001b[0;34m.\u001b[0m\u001b[0mfill_between\u001b[0m\u001b[0;34m(\u001b[0m\u001b[0mtrees\u001b[0m\u001b[0;34m.\u001b[0m\u001b[0mbinarizer\u001b[0m\u001b[0;34m.\u001b[0m\u001b[0mboundaries\u001b[0m\u001b[0;34m[\u001b[0m\u001b[0mi\u001b[0m\u001b[0;34m]\u001b[0m\u001b[0;34m,\u001b[0m \u001b[0mresult\u001b[0m\u001b[0;34m[\u001b[0m\u001b[0mi\u001b[0m\u001b[0;34m]\u001b[0m \u001b[0;34m-\u001b[0m \u001b[0;36m3\u001b[0m \u001b[0;34m*\u001b[0m \u001b[0mstd\u001b[0m\u001b[0;34m[\u001b[0m\u001b[0mi\u001b[0m\u001b[0;34m]\u001b[0m\u001b[0;34m,\u001b[0m \u001b[0mresult\u001b[0m\u001b[0;34m[\u001b[0m\u001b[0mi\u001b[0m\u001b[0;34m]\u001b[0m \u001b[0;34m+\u001b[0m \u001b[0;36m3\u001b[0m \u001b[0;34m*\u001b[0m \u001b[0mstd\u001b[0m\u001b[0;34m[\u001b[0m\u001b[0mi\u001b[0m\u001b[0;34m]\u001b[0m\u001b[0;34m,\u001b[0m \u001b[0malpha\u001b[0m\u001b[0;34m=\u001b[0m\u001b[0;36m0.1\u001b[0m\u001b[0;34m)\u001b[0m\u001b[0;34m\u001b[0m\u001b[0;34m\u001b[0m\u001b[0m\n",
      "\u001b[0;32m~/Projects/sgp/sgp/trees/forest.py\u001b[0m in \u001b[0;36mpdp\u001b[0;34m(self)\u001b[0m\n\u001b[1;32m     84\u001b[0m         \u001b[0msplits\u001b[0m \u001b[0;34m=\u001b[0m \u001b[0mself\u001b[0m\u001b[0;34m.\u001b[0m\u001b[0mbinarizer\u001b[0m\u001b[0;34m.\u001b[0m\u001b[0mboundaries\u001b[0m\u001b[0;34m.\u001b[0m\u001b[0mshape\u001b[0m\u001b[0;34m\u001b[0m\u001b[0;34m\u001b[0m\u001b[0m\n\u001b[1;32m     85\u001b[0m         \u001b[0msums\u001b[0m \u001b[0;34m=\u001b[0m \u001b[0mnp\u001b[0m\u001b[0;34m.\u001b[0m\u001b[0mzeros\u001b[0m\u001b[0;34m(\u001b[0m\u001b[0msplits\u001b[0m\u001b[0;34m)\u001b[0m\u001b[0;34m\u001b[0m\u001b[0;34m\u001b[0m\u001b[0m\n\u001b[0;32m---> 86\u001b[0;31m         \u001b[0mjackknife_sums\u001b[0m \u001b[0;34m=\u001b[0m \u001b[0mnp\u001b[0m\u001b[0;34m.\u001b[0m\u001b[0mzeros\u001b[0m\u001b[0;34m(\u001b[0m\u001b[0;34m(\u001b[0m\u001b[0msplits\u001b[0m\u001b[0;34m,\u001b[0m \u001b[0mself\u001b[0m\u001b[0;34m.\u001b[0m\u001b[0mn_items\u001b[0m\u001b[0;34m)\u001b[0m\u001b[0;34m)\u001b[0m\u001b[0;34m\u001b[0m\u001b[0;34m\u001b[0m\u001b[0m\n\u001b[0m\u001b[1;32m     87\u001b[0m         \u001b[0mjackknife_counts\u001b[0m \u001b[0;34m=\u001b[0m \u001b[0mnp\u001b[0m\u001b[0;34m.\u001b[0m\u001b[0mzeros\u001b[0m\u001b[0;34m(\u001b[0m\u001b[0;34m(\u001b[0m\u001b[0msplits\u001b[0m\u001b[0;34m,\u001b[0m \u001b[0mself\u001b[0m\u001b[0;34m.\u001b[0m\u001b[0mn_items\u001b[0m\u001b[0;34m)\u001b[0m\u001b[0;34m)\u001b[0m\u001b[0;34m\u001b[0m\u001b[0;34m\u001b[0m\u001b[0m\n\u001b[1;32m     88\u001b[0m \u001b[0;34m\u001b[0m\u001b[0m\n",
      "\u001b[0;31mTypeError\u001b[0m: 'tuple' object cannot be interpreted as an integer"
     ]
    }
   ],
   "source": [
    "result, std = trees.pdp()\n",
    "\n",
    "for i in top_features[:1]:\n",
    "    plt.plot(trees.binarizer.boundaries[i], result[i])\n",
    "    plt.fill_between(trees.binarizer.boundaries[i], result[i] - 3 * std[i], result[i] + 3 * std[i], alpha=0.1)\n",
    "\n",
    "    plt.xlabel(xnames[i])\n",
    "    plt.show()"
   ]
  },
  {
   "cell_type": "code",
   "execution_count": 194,
   "metadata": {},
   "outputs": [
    {
     "data": {
      "image/png": "[encoded data removed]",
      "text/plain": [
       "<Figure size 432x288 with 1 Axes>"
      ]
     },
     "metadata": {
      "needs_background": "light"
     },
     "output_type": "display_data"
    }
   ],
   "source": [
    "result, std = trees.pdp()\n",
    "\n",
    "for i in top_features[:1]:\n",
    "    plt.plot(trees.binarizer.boundaries[i], result[i])\n",
    "    plt.fill_between(trees.binarizer.boundaries[i], result[i] - 3 * std[i], result[i] + 3 * std[i], alpha=0.1)\n",
    "\n",
    "    plt.xlabel(xnames[i])\n",
    "    plt.show()"
   ]
  },
  {
   "cell_type": "markdown",
   "metadata": {},
   "source": [
    "# Binarizer"
   ]
  },
  {
   "cell_type": "code",
   "execution_count": 2,
   "metadata": {},
   "outputs": [],
   "source": [
    "import scipy.stats\n",
    "import numpy as np"
   ]
  },
  {
   "cell_type": "code",
   "execution_count": 3,
   "metadata": {},
   "outputs": [],
   "source": [
    "X = scipy.stats.norm(0, 1).rvs((200000, 500))\n",
    "y = np.mean(X, axis=1)\n",
    "binarizer = Binarizer(32)"
   ]
  },
  {
   "cell_type": "code",
   "execution_count": 11,
   "metadata": {},
   "outputs": [
    {
     "name": "stdout",
     "output_type": "stream",
     "text": [
      "422 ms ± 9.83 ms per loop (mean ± std. dev. of 7 runs, 1 loop each)\n"
     ]
    }
   ],
   "source": [
    "%%timeit n=5\n",
    "binarizer.fit(X)"
   ]
  },
  {
   "cell_type": "code",
   "execution_count": 8,
   "metadata": {},
   "outputs": [
    {
     "name": "stdout",
     "output_type": "stream",
     "text": [
      "7.18 s ± 253 ms per loop (mean ± std. dev. of 7 runs, 1 loop each)\n"
     ]
    }
   ],
   "source": [
    "%%timeit n=5\n",
    "df_bins = binarizer.transform(X)"
   ]
  },
  {
   "cell_type": "code",
   "execution_count": 9,
   "metadata": {},
   "outputs": [
    {
     "name": "stdout",
     "output_type": "stream",
     "text": [
      "1.86 s ± 23.6 ms per loop (mean ± std. dev. of 7 runs, 1 loop each)\n"
     ]
    }
   ],
   "source": [
    "%%timeit n=5\n",
    "df_bins = binarizer.transform(X)"
   ]
  },
  {
   "cell_type": "code",
   "execution_count": 12,
   "metadata": {},
   "outputs": [
    {
     "name": "stdout",
     "output_type": "stream",
     "text": [
      "1.82 s ± 11.3 ms per loop (mean ± std. dev. of 7 runs, 1 loop each)\n"
     ]
    }
   ],
   "source": [
    "%%timeit n=5\n",
    "DecisionTree(max_depth=6, binarizer=binarizer).fit(df_bins, MSELoss.point_stats(y), MSELoss(min_samples_leaf=1), binarize=False)"
   ]
  },
  {
   "cell_type": "code",
   "execution_count": 13,
   "metadata": {},
   "outputs": [
    {
     "name": "stdout",
     "output_type": "stream",
     "text": [
      "3.03 s ± 17.8 ms per loop (mean ± std. dev. of 7 runs, 1 loop each)\n"
     ]
    }
   ],
   "source": [
    "%%timeit n=5\n",
    "DecisionTree(max_depth=6, binarizer=binarizer).fit(df_bins, MSELoss.point_stats(y), MSELoss(min_samples_leaf=1), binarize=False)"
   ]
  },
  {
   "cell_type": "code",
   "execution_count": null,
   "metadata": {},
   "outputs": [],
   "source": []
  },
  {
   "cell_type": "code",
   "execution_count": 14,
   "metadata": {},
   "outputs": [
    {
     "name": "stdout",
     "output_type": "stream",
     "text": [
      "CPU times: user 38.3 s, sys: 1.15 s, total: 39.4 s\n",
      "Wall time: 39.1 s\n"
     ]
    }
   ],
   "source": [
    "%%time\n",
    "benchmark_tree()"
   ]
  },
  {
   "cell_type": "code",
   "execution_count": 16,
   "metadata": {},
   "outputs": [
    {
     "name": "stdout",
     "output_type": "stream",
     "text": [
      "CPU times: user 11.5 s, sys: 969 ms, total: 12.4 s\n",
      "Wall time: 12.1 s\n"
     ]
    }
   ],
   "source": [
    "%%time\n",
    "benchmark_tree()"
   ]
  },
  {
   "cell_type": "code",
   "execution_count": 21,
   "metadata": {},
   "outputs": [
    {
     "name": "stdout",
     "output_type": "stream",
     "text": [
      "CPU times: user 9.04 s, sys: 473 ms, total: 9.51 s\n",
      "Wall time: 8.98 s\n"
     ]
    }
   ],
   "source": [
    "%%time\n",
    "benchmark_tree(max_depth=1)"
   ]
  },
  {
   "cell_type": "code",
   "execution_count": 9,
   "metadata": {},
   "outputs": [],
   "source": [
    "%load_ext line_profiler"
   ]
  },
  {
   "cell_type": "code",
   "execution_count": 10,
   "metadata": {},
   "outputs": [
    {
     "data": {
      "text/plain": [
       "Timer unit: 1e-06 s\n",
       "\n",
       "Total time: 1.48469 s\n",
       "File: ../sgp/trees/tree.py\n",
       "Function: eval_stats at line 108\n",
       "\n",
       "Line #      Hits         Time  Per Hit   % Time  Line Contents\n",
       "==============================================================\n",
       "   108                                               @staticmethod\n",
       "   109                                               def eval_stats(df_bins: np.ndarray,\n",
       "   110                                                              items_leafs: np.ndarray,\n",
       "   111                                                              point_stats: np.ndarray,\n",
       "   112                                                              depth: int,\n",
       "   113                                                              n_bins: int) -> np.ndarray:\n",
       "   114                                                   # Use a single array for two axes to optimize bincount function call\n",
       "   115         6         29.0      4.8      0.0          leafs_shape = (2 ** depth + (2 ** depth - 1))\n",
       "   116         6          6.0      1.0      0.0          leaf_bin_axis_shape = leafs_shape * n_bins\n",
       "   117         6         66.0     11.0      0.0          result = np.zeros((point_stats.shape[0], df_bins.shape[0], leaf_bin_axis_shape), np.float64)\n",
       "   118                                           \n",
       "   119                                                   # Offsets for the leaf-bin axis\n",
       "   120         6       2227.0    371.2      0.1          leaf_bin_axis_offsets = items_leafs * n_bins\n",
       "   121                                           \n",
       "   122                                                   # Reuse for an optimization\n",
       "   123         6         46.0      7.7      0.0          leaf_bin_indexes = np.zeros(df_bins.shape[1], dtype=np.int64)\n",
       "   124                                           \n",
       "   125      3006       1138.0      0.4      0.1          for f_index in range(df_bins.shape[0]):\n",
       "   126                                                       # Coordinates in leaf-bin axis\n",
       "   127      3000     227992.0     76.0     15.4              leaf_bin_indexes = np.add(df_bins[f_index], leaf_bin_axis_offsets, out=leaf_bin_indexes)\n",
       "   128                                           \n",
       "   129     12000       7303.0      0.6      0.5              for s_index in range(point_stats.shape[0]):\n",
       "   130      9000    1189312.0    132.1     80.1                  b_count = np.bincount(leaf_bin_indexes, weights=point_stats[s_index], minlength=leaf_bin_axis_shape)\n",
       "   131      9000      56536.0      6.3      3.8                  result[s_index, f_index] = b_count\n",
       "   132                                           \n",
       "   133         6         34.0      5.7      0.0          return result.reshape((point_stats.shape[0], df_bins.shape[0], leafs_shape, n_bins))"
      ]
     },
     "metadata": {},
     "output_type": "display_data"
    }
   ],
   "source": [
    "%lprun -f DecisionTree.eval_stats benchmark_tree()"
   ]
  },
  {
   "cell_type": "code",
   "execution_count": 58,
   "metadata": {},
   "outputs": [
    {
     "data": {
      "text/plain": [
       "Timer unit: 1e-06 s\n",
       "\n",
       "Total time: 7.54812 s\n",
       "File: ../sgp/trees/tree.py\n",
       "Function: fit at line 22\n",
       "\n",
       "Line #      Hits         Time  Per Hit   % Time  Line Contents\n",
       "==============================================================\n",
       "    22                                               def fit(self, X: np.ndarray,\n",
       "    23                                                       point_stats: np.ndarray,\n",
       "    24                                                       loss: AdditiveLoss,\n",
       "    25                                                       binarize: bool = True) -> 'DecisionTreeModel':\n",
       "    26         1      29682.0  29682.0      0.4          assert_all_finite(X)\n",
       "    27         1        227.0    227.0      0.0          assert_all_finite(point_stats)\n",
       "    28                                           \n",
       "    29         1    5888187.0 5888187.0     78.0          df_bins, binarizer = DecisionTree.check_input(X, self.binarizer, self.n_bins, binarize)\n",
       "    30         1          2.0      2.0      0.0          assert binarizer.boundaries is not None\n",
       "    31         1          2.0      2.0      0.0          assert point_stats.shape[1] == df_bins.shape[1]\n",
       "    32         1          1.0      1.0      0.0          assert point_stats.ndim == 2\n",
       "    33                                           \n",
       "    34                                                   # Initially, all items are in the tree root\n",
       "    35         1         60.0     60.0      0.0          items_leafs = np.zeros(df_bins.shape[1], dtype=np.int64)\n",
       "    36                                           \n",
       "    37         1          6.0      6.0      0.0          nodes: List[Optional[TreeNode]] = [None] * (2 ** (self.max_depth + 1))\n",
       "    38         1        199.0    199.0      0.0          nodes[0] = TreeNode(point_stats.sum(axis=1))\n",
       "    39                                           \n",
       "    40         7         14.0      2.0      0.0          for depth in np.arange(self.max_depth):\n",
       "    41         6    1477520.0 246253.3     19.6              stats = DecisionTree.eval_stats(df_bins, items_leafs, point_stats, depth, binarizer.n_bins)\n",
       "    42                                           \n",
       "    43        69        139.0      2.0      0.0              for node_id in DecisionTree.leafs_ids_range(depth):\n",
       "    44        63         61.0      1.0      0.0                  current_node = nodes[node_id]\n",
       "    45                                           \n",
       "    46        63         31.0      0.5      0.0                  if current_node is None:\n",
       "    47                                                               continue\n",
       "    48                                           \n",
       "    49        63      66957.0   1062.8      0.9                  left_stats, right_stats = DecisionTree.split_stats(stats, node_id, binarizer.n_bins)\n",
       "    50        63        146.0      2.3      0.0                  assert left_stats.shape[-1] == binarizer.n_bins + 1\n",
       "    51        63         44.0      0.7      0.0                  assert right_stats.shape[-1] == binarizer.n_bins + 1\n",
       "    52        63       6252.0     99.2      0.1                  assert np.allclose((left_stats[:, 0, 0] + right_stats[:, 0, 0]), current_node.stats)\n",
       "    53                                           \n",
       "    54        63      16682.0    264.8      0.2                  split_scores = loss.score(left_stats, right_stats)\n",
       "    55        63       3736.0     59.3      0.0                  valid_splits = loss.valid_stats(left_stats) & loss.valid_stats(right_stats)\n",
       "    56                                           \n",
       "    57        63       2746.0     43.6      0.0                  if valid_splits.sum() == 0:\n",
       "    58                                                               if self.verbose:\n",
       "    59                                                                   print(f'{node_id}: no valid splits')\n",
       "    60                                                               continue\n",
       "    61                                           \n",
       "    62        63       3567.0     56.6      0.0                  valid_scores = np.ma.masked_array(split_scores, mask=~valid_splits)\n",
       "    63        63       7130.0    113.2      0.1                  best_score = valid_scores.min()\n",
       "    64                                           \n",
       "    65        63      19803.0    314.3      0.3                  best_f_index, best_bin = np.argwhere(valid_scores == best_score)[0]\n",
       "    66                                           \n",
       "    67        63        314.0      5.0      0.0                  current_node.set_split(best_f_index, best_bin, binarizer.boundaries[best_f_index][best_bin])\n",
       "    68                                           \n",
       "    69        63         73.0      1.2      0.0                  left_node_id = 2 * node_id + 1\n",
       "    70        63         37.0      0.6      0.0                  right_node_id = 2 * node_id + 2\n",
       "    71                                           \n",
       "    72        63        220.0      3.5      0.0                  nodes[left_node_id] = TreeNode(left_stats[:, best_f_index, best_bin])\n",
       "    73        63        110.0      1.7      0.0                  nodes[right_node_id] = TreeNode(right_stats[:, best_f_index, best_bin])\n",
       "    74                                           \n",
       "    75        63       9978.0    158.4      0.1                  left_flags, right_flags = current_node.process_items(df_bins, items_leafs == node_id)\n",
       "    76        63       7114.0    112.9      0.1                  items_leafs[left_flags] = left_node_id\n",
       "    77        63       7001.0    111.1      0.1                  items_leafs[right_flags] = right_node_id\n",
       "    78                                           \n",
       "    79        63         71.0      1.1      0.0                  if self.verbose:\n",
       "    80                                                               print(current_node.pretty_str(loss))\n",
       "    81                                           \n",
       "    82         1          4.0      4.0      0.0          return DecisionTreeModel(nodes, self.max_depth, binarizer, loss)"
      ]
     },
     "metadata": {},
     "output_type": "display_data"
    }
   ],
   "source": [
    "%lprun -f DecisionTree.fit benchmark_tree()"
   ]
  },
  {
   "cell_type": "markdown",
   "metadata": {},
   "source": [
    "# Uplift"
   ]
  },
  {
   "cell_type": "code",
   "execution_count": 2,
   "metadata": {},
   "outputs": [],
   "source": [
    "from sgp.tests.test_uplift import make_dataset\n",
    "X, tr, y = make_dataset(100000)\n",
    "f_names = ['f1', 'f2', 'f3', 'f4', 'f5']"
   ]
  },
  {
   "cell_type": "code",
   "execution_count": 3,
   "metadata": {},
   "outputs": [
    {
     "name": "stdout",
     "output_type": "stream",
     "text": [
      "f1>=2.1308806813596743 [uplift=1.21, n=49738#50262, score=-1.5]\n",
      "├── f2>=1.8763857479493475 [uplift=3.76, n=811#778, score=-1.4e+01]\n",
      "│   ├── [uplift=4.86, n=23#32, score=-2.4e+01]\n",
      "│   └── f2>=1.4146409245835199 [uplift=3.76, n=788#746, score=-1.4e+01]\n",
      "│       ├── [uplift=4.23, n=43#29, score=-1.8e+01]\n",
      "│       └── [uplift=3.71, n=745#717, score=-1.4e+01]\n",
      "└── f1>=1.8430028708708976 [uplift=1.17, n=48927#49484, score=-1.4]\n",
      "    ├── f2>=1.6809219666182398 [uplift=3.11, n=795#792, score=-9.7]\n",
      "    │   ├── [uplift=4.17, n=27#40, score=-1.7e+01]\n",
      "    │   └── [uplift=3.1, n=768#752, score=-9.6]\n",
      "    └── f1>=1.658299848254468 [uplift=1.14, n=48132#48692, score=-1.3]\n",
      "        ├── [uplift=2.93, n=785#802, score=-8.6]\n",
      "        └── [uplift=1.11, n=47347#47890, score=-1.2]\n"
     ]
    }
   ],
   "source": [
    "from sgp.trees.loss import MSEUpliftLoss\n",
    "\n",
    "tree = DecisionTree(max_depth=3, n_bins=64, verbose=False)\n",
    "tree_model = tree.fit(X, MSEUpliftLoss.point_stats(y, tr), MSEUpliftLoss())\n",
    "print(tree_model.pretty_str(f_names))"
   ]
  },
  {
   "cell_type": "code",
   "execution_count": 5,
   "metadata": {},
   "outputs": [
    {
     "name": "stdout",
     "output_type": "stream",
     "text": [
      "f1>=-0.055767007547695466 [uplift=1.21, n=49738#50262]\n",
      "├── f1>=0.8778759302268635 [uplift=1.98, n=26125#26257]\n",
      "│   ├── f1>=1.5191837180615335 [uplift=2.64, n=9537#9512]\n",
      "│   │   ├── [uplift=3.16, n=3186#3165]\n",
      "│   │   └── [uplift=2.37, n=6351#6347]\n",
      "│   └── f2>=0.7233487398017426 [uplift=1.6, n=16588#16745]\n",
      "│       ├── [uplift=2.16, n=4011#3903]\n",
      "│       └── [uplift=1.41, n=12577#12842]\n",
      "└── f1>=-1.1416465012083876 [uplift=0.366, n=23613#24005]\n",
      "    ├── f2>=0.2322751059481801 [uplift=0.659, n=17322#17598]\n",
      "    │   ├── [uplift=1.04, n=7098#7303]\n",
      "    │   └── [uplift=0.391, n=10224#10295]\n",
      "    └── f1>=-1.8622357180959757 [uplift=-0.439, n=6291#6407]\n",
      "        ├── [uplift=-0.226, n=4705#4819]\n",
      "        └── [uplift=-1.08, n=1586#1588]\n"
     ]
    }
   ],
   "source": [
    "from sgp.trees.loss import SigUpliftLoss\n",
    "tree = DecisionTree(max_depth=3, n_bins=64, verbose=False)\n",
    "tree_model = tree.fit(X, SigUpliftLoss.point_stats(y, tr), SigUpliftLoss())\n",
    "print(tree_model.pretty_str(f_names))"
   ]
  },
  {
   "cell_type": "code",
   "execution_count": 43,
   "metadata": {},
   "outputs": [],
   "source": [
    "#tree = DecisionTree(max_depth=6, n_bins=64, verbose=False)\n",
    "forest = RandomForest(max_depth=6, n_trees=100, n_bins=128, n_jobs=5, verbose=False)\n",
    "forest_model = forest.fit(X, MSEUpliftLoss.point_stats(y, tr), MSEUpliftLoss())\n",
    "y_pred = forest_model.predict(X)"
   ]
  },
  {
   "cell_type": "code",
   "execution_count": 49,
   "metadata": {},
   "outputs": [
    {
     "data": {
      "text/plain": [
       "[<matplotlib.lines.Line2D at 0x7f905de37c10>]"
      ]
     },
     "execution_count": 49,
     "metadata": {},
     "output_type": "execute_result"
    },
    {
     "data": {
      "image/png": "[encoded data removed]",
      "text/plain": [
       "<Figure size 432x288 with 1 Axes>"
      ]
     },
     "metadata": {
      "needs_background": "light"
     },
     "output_type": "display_data"
    }
   ],
   "source": [
    "plt.plot(X[:, 0], y_pred, 'o')"
   ]
  },
  {
   "cell_type": "code",
   "execution_count": 135,
   "metadata": {},
   "outputs": [
    {
     "data": {
      "image/png": "[encoded data removed]",
      "text/plain": [
       "<Figure size 432x288 with 1 Axes>"
      ]
     },
     "metadata": {
      "needs_background": "light"
     },
     "output_type": "display_data"
    }
   ],
   "source": [
    "from sgp.trees.binarizer import binarization_plot\n",
    "bins_values, uplift_values, stds_values = binarization_plot(X[:, 0], tr, y, n_bins=64)\n",
    "\n",
    "plt.plot(bins_values, uplift_values)\n",
    "plt.fill_between(bins_values, uplift_values - 3 * stds_values, uplift_values + 3 * stds_values, alpha=0.1)\n",
    "plt.show()"
   ]
  },
  {
   "cell_type": "code",
   "execution_count": 134,
   "metadata": {},
   "outputs": [
    {
     "data": {
      "text/plain": [
       "[<matplotlib.lines.Line2D at 0x7f90431e6f90>]"
      ]
     },
     "execution_count": 134,
     "metadata": {},
     "output_type": "execute_result"
    },
    {
     "data": {
      "image/png": "[encoded data removed]",
      "text/plain": [
       "<Figure size 432x288 with 1 Axes>"
      ]
     },
     "metadata": {
      "needs_background": "light"
     },
     "output_type": "display_data"
    }
   ],
   "source": [
    "from sgp.trees.loss import uplift_at_k\n",
    "\n",
    "random_y_pred = y_pred.copy()\n",
    "np.random.shuffle(random_y_pred)\n",
    "plt.plot(uplift_at_k(random_y_pred, y, tr)[::1000])\n",
    "\n",
    "plt.plot(uplift_at_k(y_pred, y, tr)[::1000])"
   ]
  }
 ],
 "metadata": {
  "kernelspec": {
   "display_name": "Python 3",
   "language": "python",
   "name": "python3"
  },
  "language_info": {
   "codemirror_mode": {
    "name": "ipython",
    "version": 3
   },
   "file_extension": ".py",
   "mimetype": "text/x-python",
   "name": "python",
   "nbconvert_exporter": "python",
   "pygments_lexer": "ipython3",
   "version": "3.7.6"
  }
 },
 "nbformat": 4,
 "nbformat_minor": 4
}
