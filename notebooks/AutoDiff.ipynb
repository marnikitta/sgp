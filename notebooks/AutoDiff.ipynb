{
 "cells": [
  {
   "cell_type": "code",
   "execution_count": 1,
   "metadata": {},
   "outputs": [],
   "source": [
    "import jax\n",
    "from jax import jit\n",
    "import jax.numpy as jnp"
   ]
  },
  {
   "cell_type": "code",
   "execution_count": 11,
   "metadata": {},
   "outputs": [],
   "source": [
    "@jax.jit\n",
    "def f(x, A, b):\n",
    "    res = A @ x + jnp.linalg.norm(x) - b\n",
    "    return res @ res\n",
    "\n",
    "gradf = jax.grad(f)"
   ]
  },
  {
   "cell_type": "code",
   "execution_count": 12,
   "metadata": {},
   "outputs": [],
   "source": [
    "n = 1000\n",
    "\n",
    "key = jax.random.PRNGKey(1)\n",
    "\n",
    "x = jax.random.normal(key, (n, ), dtype=jnp.float64)\n",
    "A = jax.random.normal(key, (n, n), dtype=jnp.float64)\n",
    "b = jax.random.normal(key, (n, ), dtype=jnp.float64)"
   ]
  },
  {
   "cell_type": "code",
   "execution_count": 13,
   "metadata": {},
   "outputs": [
    {
     "name": "stdout",
     "output_type": "stream",
     "text": [
      "1.09 ms ± 43.9 µs per loop (mean ± std. dev. of 7 runs, 1000 loops each)\n",
      "1.66 ms ± 38.6 µs per loop (mean ± std. dev. of 7 runs, 1000 loops each)\n",
      "205 µs ± 1.16 µs per loop (mean ± std. dev. of 7 runs, 1000 loops each)\n"
     ]
    }
   ],
   "source": [
    "%timeit 2 * A.T @ (A @ x - b)\n",
    "%timeit gradf(x, A, b).block_until_ready()\n",
    "\n",
    "jit_grad_f = jax.jit(gradf)\n",
    "%timeit jit_grad_f(x, A, b).block_until_ready()"
   ]
  },
  {
   "cell_type": "markdown",
   "metadata": {},
   "source": [
    "# Гессиан"
   ]
  },
  {
   "cell_type": "code",
   "execution_count": 5,
   "metadata": {},
   "outputs": [
    {
     "data": {
      "text/plain": [
       "DeviceArray(0., dtype=float32)"
      ]
     },
     "execution_count": 5,
     "metadata": {},
     "output_type": "execute_result"
    }
   ],
   "source": [
    "hess_func = jax.jit(jax.hessian(f))\n",
    "\n",
    "jnp.linalg.norm(2 * A.T @ A - hess_func(x, A, b))"
   ]
  },
  {
   "cell_type": "code",
   "execution_count": 6,
   "metadata": {},
   "outputs": [
    {
     "name": "stdout",
     "output_type": "stream",
     "text": [
      "16.5 ms ± 1.05 ms per loop (mean ± std. dev. of 7 runs, 100 loops each)\n"
     ]
    }
   ],
   "source": [
    "%timeit hess_func(x, A, b).block_until_ready()"
   ]
  },
  {
   "cell_type": "code",
   "execution_count": 7,
   "metadata": {},
   "outputs": [
    {
     "name": "stdout",
     "output_type": "stream",
     "text": [
      "16.9 ms ± 923 µs per loop (mean ± std. dev. of 7 runs, 100 loops each)\n"
     ]
    }
   ],
   "source": [
    "hess_jit = jax.jit(jax.jacfwd(jax.jacrev(f)))\n",
    "%timeit hess_jit(x, A, b).block_until_ready()"
   ]
  },
  {
   "cell_type": "markdown",
   "metadata": {},
   "source": [
    "# Сравним fwd и bwd"
   ]
  },
  {
   "cell_type": "code",
   "execution_count": 8,
   "metadata": {},
   "outputs": [],
   "source": [
    "fwd_grad = jax.jit(jax.jacfwd(f))\n",
    "rev_grad = jax.jit(jax.jacrev(f))"
   ]
  },
  {
   "cell_type": "code",
   "execution_count": 9,
   "metadata": {},
   "outputs": [
    {
     "name": "stdout",
     "output_type": "stream",
     "text": [
      "6.77 ms ± 168 µs per loop (mean ± std. dev. of 7 runs, 100 loops each)\n",
      "159 µs ± 1.05 µs per loop (mean ± std. dev. of 7 runs, 1000 loops each)\n"
     ]
    }
   ],
   "source": [
    "%timeit fwd_grad(x, A, b)\n",
    "%timeit rev_grad(x, A, b)"
   ]
  },
  {
   "cell_type": "code",
   "execution_count": 10,
   "metadata": {},
   "outputs": [
    {
     "name": "stdout",
     "output_type": "stream",
     "text": [
      "6.56 ms ± 29.6 µs per loop (mean ± std. dev. of 7 runs, 100 loops each)\n",
      "200 µs ± 1.19 µs per loop (mean ± std. dev. of 7 runs, 1000 loops each)\n"
     ]
    }
   ],
   "source": [
    "%timeit fwd_grad(x, A, b).block_until_ready()\n",
    "%timeit rev_grad(x, A, b).block_until_ready()"
   ]
  },
  {
   "cell_type": "code",
   "execution_count": null,
   "metadata": {},
   "outputs": [],
   "source": []
  }
 ],
 "metadata": {
  "kernelspec": {
   "display_name": "Python 3",
   "language": "python",
   "name": "python3"
  },
  "language_info": {
   "codemirror_mode": {
    "name": "ipython",
    "version": 3
   },
   "file_extension": ".py",
   "mimetype": "text/x-python",
   "name": "python",
   "nbconvert_exporter": "python",
   "pygments_lexer": "ipython3",
   "version": "3.7.6"
  }
 },
 "nbformat": 4,
 "nbformat_minor": 4
}
